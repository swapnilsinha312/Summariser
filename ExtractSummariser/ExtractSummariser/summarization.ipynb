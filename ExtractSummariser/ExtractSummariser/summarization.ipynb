{
 "cells": [
  {
   "cell_type": "markdown",
   "metadata": {},
   "source": [
    "importing the required libraries"
   ]
  },
  {
   "cell_type": "code",
   "execution_count": 1,
   "metadata": {},
   "outputs": [
    {
     "name": "stderr",
     "output_type": "stream",
     "text": [
      "[nltk_data] Downloading package punkt to\n",
      "[nltk_data]     C:\\Users\\Swap\\AppData\\Roaming\\nltk_data...\n",
      "[nltk_data]   Package punkt is already up-to-date!\n"
     ]
    }
   ],
   "source": [
    "import numpy as np\n",
    "import pandas as pd\n",
    "import nltk\n",
    "nltk.download('punkt') # one time execution\n",
    "import re"
   ]
  },
  {
   "cell_type": "code",
   "execution_count": 2,
   "metadata": {},
   "outputs": [],
   "source": [
    "df=pd.read_csv(\"tennis_articles - tennis_articles.csv\")"
   ]
  },
  {
   "cell_type": "code",
   "execution_count": 3,
   "metadata": {},
   "outputs": [
    {
     "data": {
      "text/html": [
       "<div>\n",
       "<style scoped>\n",
       "    .dataframe tbody tr th:only-of-type {\n",
       "        vertical-align: middle;\n",
       "    }\n",
       "\n",
       "    .dataframe tbody tr th {\n",
       "        vertical-align: top;\n",
       "    }\n",
       "\n",
       "    .dataframe thead th {\n",
       "        text-align: right;\n",
       "    }\n",
       "</style>\n",
       "<table border=\"1\" class=\"dataframe\">\n",
       "  <thead>\n",
       "    <tr style=\"text-align: right;\">\n",
       "      <th></th>\n",
       "      <th>article_id</th>\n",
       "      <th>article_title</th>\n",
       "      <th>article_text</th>\n",
       "      <th>source</th>\n",
       "    </tr>\n",
       "  </thead>\n",
       "  <tbody>\n",
       "    <tr>\n",
       "      <th>0</th>\n",
       "      <td>1</td>\n",
       "      <td>I do not have friends in tennis, says Maria Sh...</td>\n",
       "      <td>Maria Sharapova has basically no friends as te...</td>\n",
       "      <td>https://www.tennisworldusa.org/tennis/news/Mar...</td>\n",
       "    </tr>\n",
       "    <tr>\n",
       "      <th>1</th>\n",
       "      <td>2</td>\n",
       "      <td>Federer defeats Medvedev to advance to 14th Sw...</td>\n",
       "      <td>BASEL, Switzerland (AP) — Roger Federer advanc...</td>\n",
       "      <td>http://www.tennis.com/pro-game/2018/10/copil-s...</td>\n",
       "    </tr>\n",
       "    <tr>\n",
       "      <th>2</th>\n",
       "      <td>3</td>\n",
       "      <td>Tennis: Roger Federer ignored deadline set by ...</td>\n",
       "      <td>Roger Federer has revealed that organisers of ...</td>\n",
       "      <td>https://scroll.in/field/899938/tennis-roger-fe...</td>\n",
       "    </tr>\n",
       "    <tr>\n",
       "      <th>3</th>\n",
       "      <td>4</td>\n",
       "      <td>Nishikori to face off against Anderson in Vien...</td>\n",
       "      <td>Kei Nishikori will try to end his long losing ...</td>\n",
       "      <td>http://www.tennis.com/pro-game/2018/10/nishiko...</td>\n",
       "    </tr>\n",
       "    <tr>\n",
       "      <th>4</th>\n",
       "      <td>5</td>\n",
       "      <td>Roger Federer has made this huge change to ten...</td>\n",
       "      <td>Federer, 37, first broke through on tour over ...</td>\n",
       "      <td>https://www.express.co.uk/sport/tennis/1036101...</td>\n",
       "    </tr>\n",
       "  </tbody>\n",
       "</table>\n",
       "</div>"
      ],
      "text/plain": [
       "   article_id                                      article_title  \\\n",
       "0           1  I do not have friends in tennis, says Maria Sh...   \n",
       "1           2  Federer defeats Medvedev to advance to 14th Sw...   \n",
       "2           3  Tennis: Roger Federer ignored deadline set by ...   \n",
       "3           4  Nishikori to face off against Anderson in Vien...   \n",
       "4           5  Roger Federer has made this huge change to ten...   \n",
       "\n",
       "                                        article_text  \\\n",
       "0  Maria Sharapova has basically no friends as te...   \n",
       "1  BASEL, Switzerland (AP) — Roger Federer advanc...   \n",
       "2  Roger Federer has revealed that organisers of ...   \n",
       "3  Kei Nishikori will try to end his long losing ...   \n",
       "4  Federer, 37, first broke through on tour over ...   \n",
       "\n",
       "                                              source  \n",
       "0  https://www.tennisworldusa.org/tennis/news/Mar...  \n",
       "1  http://www.tennis.com/pro-game/2018/10/copil-s...  \n",
       "2  https://scroll.in/field/899938/tennis-roger-fe...  \n",
       "3  http://www.tennis.com/pro-game/2018/10/nishiko...  \n",
       "4  https://www.express.co.uk/sport/tennis/1036101...  "
      ]
     },
     "execution_count": 3,
     "metadata": {},
     "output_type": "execute_result"
    }
   ],
   "source": [
    "df.head()"
   ]
  },
  {
   "cell_type": "code",
   "execution_count": 4,
   "metadata": {},
   "outputs": [
    {
     "name": "stdout",
     "output_type": "stream",
     "text": [
      "https://www.tennisworldusa.org/tennis/news/Maria_Sharapova/62220/i-do-not-have-friends-in-tennis-says-maria-sharapova/\n"
     ]
    }
   ],
   "source": [
    "print(df[\"source\"][0])"
   ]
  },
  {
   "cell_type": "code",
   "execution_count": 5,
   "metadata": {},
   "outputs": [
    {
     "name": "stdout",
     "output_type": "stream",
     "text": [
      "Maria Sharapova has basically no friends as tennis players on the WTA Tour. The Russian player has no problems in openly speaking about it and in a recent interview she said: 'I don't really hide any feelings too much. I think everyone knows this is my job here. When I'm on the courts or when I'm on the court playing, I'm a competitor and I want to beat every single person whether they're in the locker room or across the net. So I'm not the one to strike up a conversation about the weather and know that in the next few minutes I have to go and try to win a tennis match. I'm a pretty competitive girl. I say my hellos, but I'm not sending any players flowers as well. Uhm, I'm not really friendly or close to many players. I have not a lot of friends away from the courts.' When she said she is not really close to a lot of players, is that something strategic that she is doing? Is it different on the men's tour than the women's tour? 'No, not at all. I think just because you're in the same sport doesn't mean that you have to be friends with everyone just because you're categorized, you're a tennis player, so you're going to get along with tennis players. I think every person has different interests. I have friends that have completely different jobs and interests, and I've met them in very different parts of my life. I think everyone just thinks because we're tennis players we should be the greatest of friends. But ultimately tennis is just a very small part of what we do. There are so many other things that we're interested in, that we do.' ALSO READ: Maria Sharapova reveals how tennis keeps her motivated.\n"
     ]
    }
   ],
   "source": [
    "print(df['article_text'][0])"
   ]
  },
  {
   "cell_type": "markdown",
   "metadata": {},
   "source": [
    "importing the required natural language processing tools"
   ]
  },
  {
   "cell_type": "code",
   "execution_count": 6,
   "metadata": {},
   "outputs": [],
   "source": [
    "from nltk.tokenize import sent_tokenize"
   ]
  },
  {
   "cell_type": "markdown",
   "metadata": {},
   "source": [
    "extracting sentences from the article text"
   ]
  },
  {
   "cell_type": "code",
   "execution_count": 7,
   "metadata": {},
   "outputs": [],
   "source": [
    "sentences=[]\n",
    "for s in df[\"article_text\"]:\n",
    "    sentences.append(sent_tokenize(s))"
   ]
  },
  {
   "cell_type": "code",
   "execution_count": 8,
   "metadata": {},
   "outputs": [
    {
     "data": {
      "text/plain": [
       "[['Maria Sharapova has basically no friends as tennis players on the WTA Tour.',\n",
       "  \"The Russian player has no problems in openly speaking about it and in a recent interview she said: 'I don't really hide any feelings too much.\",\n",
       "  'I think everyone knows this is my job here.',\n",
       "  \"When I'm on the courts or when I'm on the court playing, I'm a competitor and I want to beat every single person whether they're in the locker room or across the net.\",\n",
       "  \"So I'm not the one to strike up a conversation about the weather and know that in the next few minutes I have to go and try to win a tennis match.\",\n",
       "  \"I'm a pretty competitive girl.\",\n",
       "  \"I say my hellos, but I'm not sending any players flowers as well.\",\n",
       "  \"Uhm, I'm not really friendly or close to many players.\",\n",
       "  \"I have not a lot of friends away from the courts.'\",\n",
       "  'When she said she is not really close to a lot of players, is that something strategic that she is doing?',\n",
       "  \"Is it different on the men's tour than the women's tour?\",\n",
       "  \"'No, not at all.\",\n",
       "  \"I think just because you're in the same sport doesn't mean that you have to be friends with everyone just because you're categorized, you're a tennis player, so you're going to get along with tennis players.\",\n",
       "  'I think every person has different interests.',\n",
       "  \"I have friends that have completely different jobs and interests, and I've met them in very different parts of my life.\",\n",
       "  \"I think everyone just thinks because we're tennis players we should be the greatest of friends.\",\n",
       "  'But ultimately tennis is just a very small part of what we do.',\n",
       "  \"There are so many other things that we're interested in, that we do.'\",\n",
       "  'ALSO READ: Maria Sharapova reveals how tennis keeps her motivated.'],\n",
       " ['BASEL, Switzerland (AP) — Roger Federer advanced to the 14th Swiss Indoors final of his career by beating seventh-seeded Daniil Medvedev 6-1, 6-4 on Saturday.',\n",
       "  'Seeking a ninth title at his hometown event, and a 99th overall, Federer will play 93th-ranked Marius Copil on Sunday.',\n",
       "  'Federer dominated the 20th-ranked Medvedev and had his first match-point chance to break serve again at 5-1.',\n",
       "  \"He then dropped his serve to love, and let another match point slip in Medvedev's next service game by netting a backhand.\",\n",
       "  'He clinched on his fourth chance when Medvedev netted from the baseline.',\n",
       "  'Copil upset expectations of a Federer final against Alexander Zverev in a 6-3, 6-7 (6), 6-4 win over the fifth-ranked German in the earlier semifinal.',\n",
       "  'The Romanian aims for a first title after arriving at Basel without a career win over a top-10 opponent.',\n",
       "  'Copil has two after also beating No.',\n",
       "  '6 Marin Cilic in the second round.',\n",
       "  'Copil fired 26 aces past Zverev and never dropped serve, clinching after 2 1/2 hours with a forehand volley winner to break Zverev for the second time in the semifinal.',\n",
       "  \"He came through two rounds of qualifying last weekend to reach the Basel main draw, including beating Zverev's older brother, Mischa.\",\n",
       "  'Federer had an easier time than in his only previous match against Medvedev, a three-setter at Shanghai two weeks ago.'],\n",
       " ['Roger Federer has revealed that organisers of the re-launched and condensed Davis Cup gave him three days to decide if he would commit to the controversial competition.',\n",
       "  'Speaking at the Swiss Indoors tournament where he will play in Sunday’s final against Romanian qualifier Marius Copil, the world number three said that given the impossibly short time frame to make a decision, he opted out of any commitment.',\n",
       "  '“They only left me three days to decide,” Federer said.',\n",
       "  '“I didn’t to have time to consult with all the people I had to consult.',\n",
       "  '“I could not make a decision in that time, so I told them to do what they wanted.” The 20-time Grand Slam champion has voiced doubts about the wisdom of the one-week format to be introduced by organisers Kosmos, who have promised the International Tennis Federation up to $3 billion in prize money over the next quarter-century.',\n",
       "  'The competition is set to feature 18 countries in the November 18-24 finals in Madrid next year, and will replace the classic home-and-away ties played four times per year for decades.',\n",
       "  'Kosmos is headed by Barcelona footballer Gerard Pique, who is hoping fellow Spaniard Rafael Nadal will play in the upcoming event.',\n",
       "  'Novak Djokovic has said he will give precedence to the ATP’s intended re-launch of the defunct World Team Cup in January 2020, at various Australian venues.',\n",
       "  'Major players feel that a big event in late November combined with one in January before the Australian Open will mean too much tennis and too little rest.',\n",
       "  'Federer said earlier this month in Shanghai in that his chances of playing the Davis Cup were all but non-existent.',\n",
       "  '“I highly doubt it, of course.',\n",
       "  'We’ll see what happens,” he said.',\n",
       "  '“I don’t think this was designed for me, anyhow.',\n",
       "  'This was designed for the future generation of players.” Argentina and Britain received wild cards to the new-look event, and will compete along with the four 2018 semi-finalists and the 12 teams who win qualifying rounds next February.',\n",
       "  '“I don’t like being under that kind of pressure,” Federer said of the deadline Kosmos handed him.'],\n",
       " ['Kei Nishikori will try to end his long losing streak in ATP finals and Kevin Anderson will go for his second title of the year at the Erste Bank Open on Sunday.',\n",
       "  'The fifth-seeded Nishikori reached his third final of 2018 after beating Mikhail Kukushkin of Kazakhstan 6-4, 6-3 in the semifinals.',\n",
       "  \"A winner of 11 ATP events, Nishikori hasn't triumphed since winning in Memphis in February 2016.\",\n",
       "  'He has lost eight straight finals since.',\n",
       "  'The second-seeded Anderson defeated Fernando Verdasco 6-3, 3-6, 6-4.',\n",
       "  'Anderson has a shot at a fifth career title and second of the year after winning in New York in February.',\n",
       "  'Nishikori leads Anderson 4-2 on career matchups, but the South African won their only previous meeting this year.',\n",
       "  'With a victory on Sunday, Anderson will qualify for the ATP Finals.',\n",
       "  'Currently in ninth place, Nishikori with a win could move to within 125 points of the cut for the eight-man event in London next month.',\n",
       "  'Nishikori held serve throughout against Kukushkin, who came through qualifying.',\n",
       "  'He used his first break point to close out the first set before going up 3-0 in the second and wrapping up the win on his first match point.',\n",
       "  'Against Verdasco, Anderson hit nine of his 19 aces in the opening set.',\n",
       "  \"The Spaniard broke Anderson twice in the second but didn't get another chance on the South African's serve in the final set.\"],\n",
       " ['Federer, 37, first broke through on tour over two decades ago and he has since gone on to enjoy a glittering career.',\n",
       "  'The 20-time Grand Slam winner is chasing his 99th ATP title at the Swiss Indoors this week and he faces Jan-Lennard Struff in the second round on Thursday (6pm BST).',\n",
       "  'Davenport enjoyed most of her success in the late 1990s and her third and final major tournament win came at the 2000 Australian Open.',\n",
       "  'But she claims the mentality of professional tennis players slowly began to change after the new millennium.',\n",
       "  '“It seems pretty friendly right now,” said Davenport.',\n",
       "  '“I think there is a really nice environment and a great atmosphere, especially between some of the veteran players helping some of the younger players out.',\n",
       "  \"“It's a very pleasant atmosphere, I'd have to say, around the locker rooms.\",\n",
       "  '“I felt like the best weeks that I had to get to know players when I was playing were the Fed Cup weeks or the Olympic weeks, not necessarily during the tournaments.',\n",
       "  '“And even though maybe we had smaller teams, I still think we kept to ourselves quite a bit.',\n",
       "  '“Not always, but I really feel like in the mid-2000 years there was a huge shift of the attitudes of the top players and being more friendly and being more giving, and a lot of that had to do with players like Roger coming up.',\n",
       "  \"“I just felt like it really kind of changed where people were a little bit, definitely in the '90s, a lot more quiet, into themselves, and then it started to become better.” Meanwhile, Federer is hoping he can improve his service game as he hunts his ninth Swiss Indoors title this week.\",\n",
       "  \"“I didn't serve very well [against first-round opponent Filip Kranjovic,” Federer said.\",\n",
       "  '“I think I was misfiring the corners, I was not hitting the lines enough.',\n",
       "  \"“Clearly you make your life more difficult, but still I was up 6-2, 3-1, break points, so things could have ended very quickly today, even though I didn't have the best serve percentage stats.\",\n",
       "  \"“But maybe that's exactly what caught up to me eventually.\",\n",
       "  \"It's just getting used to it.\",\n",
       "  'This is where the first rounds can be tricky.”'],\n",
       " ['Nadal has not played tennis since he was forced to retire from the US Open semi-finals against Juan Martin Del Porto with a knee injury.',\n",
       "  'The world No 1 has been forced to miss Spain’s Davis Cup clash with France and the Asian hard court season.',\n",
       "  'But with the ATP World Tour Finals due to begin next month, Nadal is ready to prove his fitness before the season-ending event at the 02 Arena.',\n",
       "  'Nadal flew to Paris on Friday and footage from the Paris Masters official Twitter account shows the Spaniard smiling as he strides onto court for practice.',\n",
       "  'The Paris Masters draw has been made and Nadal will start his campaign on Tuesday or Wednesday against either Fernando Verdasco or Jeremy Chardy.',\n",
       "  'Nadal could then play defending champion Jack Sock in the third round before a potential quarter-final with either Borna Coric or Dominic Thiem.',\n",
       "  'Nadal’s appearance in Paris is a big boost to the tournament organisers who could see Roger Federer withdraw.',\n",
       "  'Federer is in action at the Swiss Indoors in Basel and if he reaches the final, he could pull out of Paris in a bid to stay fresh for London.',\n",
       "  'But as it stands, Federer is in the draw and is scheduled to face either former world No 3 Milos Raonic or Jo-Wilfried Tsonga in the second round.',\n",
       "  'Federer’s projected route to the Paris final could also lead to matches against Kevin Anderson and Novak Djokovic.',\n",
       "  'Djokovic could play Marco Cecchinato in the second round.',\n",
       "  'British No 1 Kyle Edmund is the 12th seed in Paris and will get underway in round two against either Karen Khachanov or Filip Krajinovic.'],\n",
       " ['Tennis giveth, and tennis taketh away.',\n",
       "  'The end of the season is finally in sight, and with so many players defending—or losing—huge chunks of points in Singapore, Zhuhai and London, podcast co-hosts Nina Pantic and Irina Falconi discuss the art of defending points (02:14).',\n",
       "  \"It's no secret that Jack Sock has struggled on the singles court this year (his record is 7-19).\",\n",
       "  'He could lose 1,400 points in the next few weeks—but instead of focusing on the negative, it can all be about perspective (06:28).',\n",
       "  \"Let's also not forget his two Grand Slam doubles triumphs this season.\",\n",
       "  'Two players, Stefanos Tsitsipas and Kyle Edmund, won their first career ATP titles last week (13:26).',\n",
       "  \"It's a big deal because...you never forget your first.\",\n",
       "  'Irina looks back at her WTA title win in Bogota in 2016, and tells an unforgettable story about her semifinal drama (14:04).',\n",
       "  'In Singapore, one of the biggest storylines (aside from the matches, of course) has been the on-court coaching debate.',\n",
       "  'Nina and Irina give their opinions on what coaching should look like in the future, on both tours (18:55).'],\n",
       " ['I PLAYED golf last week with Todd Reid.',\n",
       "  'He picked me up at 5.30am, half an hour early because he couldn’t sleep.',\n",
       "  'Or hadn’t slept, to be specific.',\n",
       "  'Not because he’d been out on a bender or anything — those days were in the past.',\n",
       "  'The former Wimbledon junior champion was full of hope, excited about getting his life back together after a troubled few years and a touch-and-go battle with pancreatitis.',\n",
       "  '“I’m pleased with that,” he said after grinding out an eight-over-par front nine at the not-so-royal Northbridge club in Sydney and smashing down an egg- and-bacon roll at the halfway house.',\n",
       "  'To most players of his rare sporting gifts, such a modest return would be unacceptable.',\n",
       "  'To Reid the 15-marker, just being up and at ‘em was enough; a few bogeys and one well-made par — broomstick putter and all — vindication for his recent decision to renew his membership at nearby Bankstown.',\n",
       "  'Exhausted after spending half his round deep in the bushes searching for my ball, as well as those of two other golfers he’d never met before, our incredibly giving designated driver asked if we didn’t mind going straight home after signing off so he could rest up a little before heading to work.',\n",
       "  'Fourteen years after sharing centre court with Roger Federer in the third round of the Australian Open, Reid was now running the counter and coaching kids - but sadly now never mine- in suburban Sydney at the Matraville tennis and squash centre run by his father Bob and beautiful mother Sandra, herselfa former professional.',\n",
       "  'Quite the fall from grace for a prodigious talent once afforded a 3000-word spread in The New York Times.',\n",
       "  'With sponsors and the world at his feet, Reid was 14 then and being mentored by Nick Bollettieri, who fashioned the likes of Andre Agassi, Maria Sharapova, Monica Seles and Jim Courier into world No.1s.',\n",
       "  'Reid, too, was earmarked for the very top, only for injuries and illness to cruel his career.',\n",
       "  'On the up again after taking salvation in the bottle, Reid was found dead on Tuesday aged just 34.',\n",
       "  '“I never got over what happened to me when I was 19,” he told AAP last week.',\n",
       "  'Just as his senior career got legs, Reid was derailed by a debilitating bout of glandular fever.',\n",
       "  'The life-changing setback hit only weeks after the then-teenage wonder boy announced his arrival as a grand slam threat by throwing up all over Rod Laver Arena during a fighting five-set second-round win over Sargis Sargsian.',\n",
       "  'The epic victory set-up his showdown with Federer, who would go on to win his first Australian Open.',\n",
       "  '“I was their golden boy then,” he said of his relationship with Tennis Australia.',\n",
       "  '“Now they won’t even give me tickets (to the Open).” A Davis Cup pick and on the cusp of the world’s 100 by 18, Reid had few other complaints - just a lingering sense of what might have been.',\n",
       "  'He’d backed up his last-32 showingat Melbourne Park with a string of wins over elites including French Open champion and then world No.9 Gaston Gaudio and Roland Garros runner-up Martin Verkerk in 2004 before illness struck.',\n",
       "  '“I was on a nice trajectorythen,” Reid recalled.“If I hadn’t got sick, I think I could have started pushing towards the second week at the slams and then who knows.” Duringa comeback attempt some five years later, Reid added Bernard Tomic and 2018 US Open Federer slayer John Millman to his list of career scalps.',\n",
       "  '“He had one of the best backhands, I think, going around,” Millman told AAP.',\n",
       "  '“But my fondest memory is probably him coming back in Spain with his father and Todd trying to order a ham, cheese and tomato sandwich in the most Aussie English I ever heard.” Among his lesser known achievements - but even more significantto me - was an injured Reid’s effort to reach the final of the Manly Seaside, a prestigious Christmas-time event won backin the day by the likes of legends Rod Laver, Ken Rosewall, Frank Sedgman, John Bromwich, Lew Hoad, Neal Fraser, Fred Stolle, Evonne Goolagong and Australia’s last women’s Australian Open champion, Christine O’Neil.',\n",
       "  'Hampered by a shoulder injury, Reid served under-arm - UNDER-ARM - throughout the entire tournament yet still made the decider.',\n",
       "  '“I was always happy to work hard,” he said.',\n",
       "  'He had hoped the mercurial Nick Kyrgios would do the same.',\n",
       "  'A big fan and believer in the enigmatic Canberran, Reid didn’t want to see Kyrgios’s career slip away like his did.',\n",
       "  '“Full effort he wouldn’t fail,” Reid said of Kyrgios.',\n",
       "  '“Full effort Nick could live out his tennis like a (Tomas) Berdych or (Jo- Wilfried) Tsonga, consistently making second week,quarters, semis, finals of slams - and then hopefully more.',\n",
       "  '“Time will tell for Nick, but he’s still young.” Todd Reid was still young, too.',\n",
       "  'Tragically, his time ran out.']]"
      ]
     },
     "execution_count": 8,
     "metadata": {},
     "output_type": "execute_result"
    }
   ],
   "source": [
    "sentences"
   ]
  },
  {
   "cell_type": "markdown",
   "metadata": {},
   "source": [
    "flattening the list"
   ]
  },
  {
   "cell_type": "code",
   "execution_count": 9,
   "metadata": {},
   "outputs": [],
   "source": [
    "sentences=[y for x in sentences for y in x]"
   ]
  },
  {
   "cell_type": "code",
   "execution_count": 10,
   "metadata": {},
   "outputs": [
    {
     "name": "stdout",
     "output_type": "stream",
     "text": [
      "['Maria Sharapova has basically no friends as tennis players on the WTA Tour.', \"The Russian player has no problems in openly speaking about it and in a recent interview she said: 'I don't really hide any feelings too much.\", 'I think everyone knows this is my job here.', \"When I'm on the courts or when I'm on the court playing, I'm a competitor and I want to beat every single person whether they're in the locker room or across the net.\", \"So I'm not the one to strike up a conversation about the weather and know that in the next few minutes I have to go and try to win a tennis match.\"]\n"
     ]
    }
   ],
   "source": [
    "print(sentences[:5])"
   ]
  },
  {
   "cell_type": "markdown",
   "metadata": {},
   "source": [
    "we use GloVe word embeddings to create vector representation of our sentences"
   ]
  },
  {
   "cell_type": "code",
   "execution_count": 12,
   "metadata": {},
   "outputs": [
    {
     "name": "stdout",
     "output_type": "stream",
     "text": [
      "Collecting wget\n",
      "  Downloading wget-3.2.zip (10 kB)\n",
      "Building wheels for collected packages: wget\n",
      "  Building wheel for wget (setup.py): started\n",
      "  Building wheel for wget (setup.py): finished with status 'done'\n",
      "  Created wheel for wget: filename=wget-3.2-py3-none-any.whl size=9686 sha256=3a2e971c692d6a4edbcdc8a2f3ff79c65c1fbd53100a8816195a035419236d0f\n",
      "  Stored in directory: c:\\users\\Swap\\appdata\\local\\pip\\cache\\wheels\\bd\\a8\\c3\\3cf2c14a1837a4e04bd98631724e81f33f462d86a1d895fae0\n",
      "Successfully built wget\n",
      "Installing collected packages: wget\n",
      "Successfully installed wget-3.2\n",
      "Note: you may need to restart the kernel to use updated packages.\n"
     ]
    }
   ],
   "source": [
    "pip install wget"
   ]
  },
  {
   "cell_type": "code",
   "execution_count": 15,
   "metadata": {},
   "outputs": [
    {
     "name": "stdout",
     "output_type": "stream",
     "text": [
      "100% [......................................................................] 862182613 / 862182613"
     ]
    }
   ],
   "source": [
    "import wget\n",
    "url = 'http://nlp.stanford.edu/data/glove.6B.zip'\n",
    "filename = wget.download(url)"
   ]
  },
  {
   "cell_type": "code",
   "execution_count": 16,
   "metadata": {},
   "outputs": [
    {
     "name": "stdout",
     "output_type": "stream",
     "text": [
      "File Name                                             Modified             Size\n",
      "glove.6B.50d.txt                               2014-08-04 13:15:00    171350079\n",
      "glove.6B.100d.txt                              2014-08-04 13:14:34    347116733\n",
      "glove.6B.200d.txt                              2014-08-04 13:14:44    693432828\n",
      "glove.6B.300d.txt                              2014-08-27 12:19:16   1037962819\n",
      "Extracting all the files now...\n",
      "Done!\n"
     ]
    }
   ],
   "source": [
    "# importing required modules \n",
    "from zipfile import ZipFile \n",
    "\n",
    "# opening the zip file in READ mode \n",
    "with ZipFile(filename, 'r') as zip: \n",
    "    # printing all the contents of the zip file \n",
    "    zip.printdir() \n",
    "  \n",
    "    # extracting all the files \n",
    "    print('Extracting all the files now...') \n",
    "    zip.extractall() \n",
    "    print('Done!') "
   ]
  },
  {
   "cell_type": "markdown",
   "metadata": {},
   "source": [
    "ectracting the word embeddings(vectors)"
   ]
  },
  {
   "cell_type": "code",
   "execution_count": 17,
   "metadata": {},
   "outputs": [],
   "source": [
    "# Extract word vectors\n",
    "word_embeddings = {}\n",
    "f = open('glove.6B.100d.txt', encoding='utf-8')\n",
    "for line in f:\n",
    "    values = line.split()\n",
    "    word = values[0]\n",
    "    coefs = np.asarray(values[1:], dtype='float32')\n",
    "    word_embeddings[word] = coefs\n",
    "f.close()"
   ]
  },
  {
   "cell_type": "code",
   "execution_count": 18,
   "metadata": {},
   "outputs": [
    {
     "data": {
      "text/plain": [
       "400000"
      ]
     },
     "execution_count": 18,
     "metadata": {},
     "output_type": "execute_result"
    }
   ],
   "source": [
    "len(word_embeddings)"
   ]
  },
  {
   "cell_type": "markdown",
   "metadata": {},
   "source": [
    "# TEXT PROCESSING"
   ]
  },
  {
   "cell_type": "code",
   "execution_count": 19,
   "metadata": {},
   "outputs": [],
   "source": [
    "# remove punctuations, numbers and special characters\n",
    "clean_sentences = pd.Series(sentences).str.replace(\"[^a-zA-Z]\", \" \")\n",
    "\n",
    "# make alphabets lowercase\n",
    "clean_sentences = [s.lower() for s in clean_sentences]"
   ]
  },
  {
   "cell_type": "code",
   "execution_count": 43,
   "metadata": {},
   "outputs": [
    {
     "name": "stderr",
     "output_type": "stream",
     "text": [
      "[nltk_data] Downloading package stopwords to\n",
      "[nltk_data]     C:\\Users\\Swap\\AppData\\Roaming\\nltk_data...\n",
      "[nltk_data]   Package stopwords is already up-to-date!\n"
     ]
    }
   ],
   "source": [
    "#removing stopwords\n",
    "nltk.download('stopwords')\n",
    "from nltk.corpus import stopwords\n",
    "stop_words = stopwords.words('english')\n",
    "\n",
    "# function to remove stopwords\n",
    "def remove_stopwords(sen):\n",
    "    sen_new = \" \".join([i for i in sen if i not in stop_words])\n",
    "    return sen_new\n",
    "\n",
    "# remove stopwords from the sentences\n",
    "clean_sentences = [remove_stopwords(r.split()) for r in clean_sentences]"
   ]
  },
  {
   "cell_type": "code",
   "execution_count": 22,
   "metadata": {},
   "outputs": [
    {
     "data": {
      "text/plain": [
       "['maria sharapova basically friends tennis players wta tour',\n",
       " 'russian player problems openly speaking recent interview said really hide feelings much',\n",
       " 'think everyone knows job',\n",
       " 'courts court playing competitor want beat every single person whether locker room across net',\n",
       " 'one strike conversation weather know next minutes go try win tennis match']"
      ]
     },
     "execution_count": 22,
     "metadata": {},
     "output_type": "execute_result"
    }
   ],
   "source": [
    "clean_sentences[:5]"
   ]
  },
  {
   "cell_type": "markdown",
   "metadata": {},
   "source": [
    "# Representing sentences as vectors"
   ]
  },
  {
   "cell_type": "code",
   "execution_count": 23,
   "metadata": {},
   "outputs": [],
   "source": [
    "sentence_vectors = []\n",
    "for i in clean_sentences:\n",
    "  if len(i) != 0:\n",
    "    v = sum([word_embeddings.get(w, np.zeros((100,))) for w in i.split()])/(len(i.split())+0.001)\n",
    "  else:\n",
    "    v = np.zeros((100,))\n",
    "  sentence_vectors.append(v)"
   ]
  },
  {
   "cell_type": "code",
   "execution_count": 29,
   "metadata": {},
   "outputs": [
    {
     "name": "stdout",
     "output_type": "stream",
     "text": [
      "[ 5.14825583e-02  1.10544682e-01  6.94999397e-01  1.89168096e-01\n",
      " -9.58077684e-02  3.20288986e-01  2.70662010e-01  5.42440832e-01\n",
      " -3.05938005e-01 -1.56364068e-01  3.70127618e-01  8.09492469e-02\n",
      "  8.41393881e-03  2.47571543e-01 -3.69342804e-01 -7.61044994e-02\n",
      "  8.08582604e-02  2.30643645e-01 -2.70402402e-01  5.13828397e-01\n",
      " -6.12548441e-02  3.87900352e-01  1.03121363e-01  7.72494674e-01\n",
      "  2.59960234e-01 -7.96069205e-02  1.42143592e-01 -9.62644577e-01\n",
      "  7.54904330e-01  6.03260659e-02 -4.58570123e-01  2.36780301e-01\n",
      "  2.29152635e-01 -1.56453326e-01  3.97632688e-01 -2.32720934e-02\n",
      " -5.05520999e-01  4.13252831e-01 -2.85759270e-01 -1.35231465e-01\n",
      " -1.37098104e-01 -1.48972601e-01  3.37537557e-01 -3.49540442e-01\n",
      "  1.53484434e-01 -2.33341649e-01 -1.98460802e-01 -1.27821520e-01\n",
      "  5.08063912e-01 -3.68636876e-01 -2.28472307e-01 -3.15306723e-01\n",
      "  1.36149466e-01  2.22507194e-01  1.19500056e-01 -1.71007359e+00\n",
      " -1.04403630e-01  3.45346779e-01  5.54419458e-01  7.91236103e-01\n",
      " -2.63593912e-01  5.01183808e-01 -1.54918820e-01  2.39762396e-01\n",
      " -4.94388118e-02 -1.39404953e-01 -6.96142530e-03  4.52243447e-01\n",
      "  1.44498184e-01 -1.88242078e-01  1.62694290e-01  2.51032356e-02\n",
      " -1.29925504e-01 -2.16523811e-01 -1.39851749e-01  1.79708660e-01\n",
      "  4.75623786e-01  6.25944212e-02 -1.11897260e-01 -1.08534172e-01\n",
      "  6.22914493e-01 -2.60313332e-01 -1.83883741e-01  1.65396854e-02\n",
      " -1.04412448e+00 -3.77867967e-01 -6.96135521e-01  2.54875660e-01\n",
      " -2.14379832e-01 -6.60440326e-02 -3.04694414e-01 -2.49966215e-02\n",
      "  3.12481433e-01  1.38415188e-01  1.15484960e-01  9.44008352e-04\n",
      " -3.47184688e-01 -5.04137203e-02  3.52187961e-01  5.41942239e-01]\n"
     ]
    },
    {
     "data": {
      "text/plain": [
       "100"
      ]
     },
     "execution_count": 29,
     "metadata": {},
     "output_type": "execute_result"
    }
   ],
   "source": [
    "print(sentence_vectors[0])\n",
    "len(sentence_vectors[0])"
   ]
  },
  {
   "cell_type": "markdown",
   "metadata": {},
   "source": [
    "explanation:\n",
    "first we fetch vectors(each of size 100 elements) for the constituent words in a sentence, we then take mean/average of those vectors to arrive at a consolidated vector for the sentence"
   ]
  },
  {
   "cell_type": "markdown",
   "metadata": {},
   "source": [
    "so now essentially every sentence is represented by a vector of 100 elements which we calculated by taking the 100 element vectors for each word, adding them all up and the getting the average by dividing it by the number of words in sentence"
   ]
  },
  {
   "cell_type": "markdown",
   "metadata": {},
   "source": [
    "# Preparation of similarity matrix"
   ]
  },
  {
   "cell_type": "markdown",
   "metadata": {},
   "source": [
    "now we try to find similarities in the sentences by using the cosine similarity approach.\n",
    "\n",
    "we first create an empty similarity matrix and populate it with cosine similarities of the sentences.\n",
    "\n",
    "( Cosine similarity is a measure of similarity between two non-zero vectors\n",
    "  it measures the cosine of the angle between two vectors projected in a    \n",
    "  multi-dimensional space)\n",
    "https://www.machinelearningplus.com/nlp/cosine-similarity/"
   ]
  },
  {
   "cell_type": "code",
   "execution_count": 31,
   "metadata": {},
   "outputs": [],
   "source": [
    "# similarity matrix\n",
    "sim_mat = np.zeros([len(sentences), len(sentences)])"
   ]
  },
  {
   "cell_type": "markdown",
   "metadata": {},
   "source": [
    "now we calculate cosine similarity of the sentences and initialize the corresponding position in the similarity matrix with the cosine similarity value"
   ]
  },
  {
   "cell_type": "code",
   "execution_count": 32,
   "metadata": {},
   "outputs": [],
   "source": [
    "from sklearn.metrics.pairwise import cosine_similarity\n",
    "\n",
    "for i in range(len(sentences)):\n",
    "  for j in range(len(sentences)):\n",
    "    if i != j:\n",
    "      sim_mat[i][j] = cosine_similarity(sentence_vectors[i].reshape(1,100), sentence_vectors[j].reshape(1,100))[0,0]"
   ]
  },
  {
   "cell_type": "markdown",
   "metadata": {},
   "source": [
    "now we convert the similarity matrix into a graph(The datatype)\n",
    "here the nodes will represent the sentences and the edges will represent the similarity scores"
   ]
  },
  {
   "cell_type": "code",
   "execution_count": 35,
   "metadata": {},
   "outputs": [],
   "source": [
    "# importing networkx  \n",
    "import networkx as nx \n",
    " \n",
    "nx_graph = nx.from_numpy_array(sim_mat)\n",
    "\n",
    "#applying the page rank alg\n",
    "scores = nx.pagerank(nx_graph)\n"
   ]
  },
  {
   "cell_type": "markdown",
   "metadata": {},
   "source": [
    "# summary extraction"
   ]
  },
  {
   "cell_type": "markdown",
   "metadata": {},
   "source": [
    "now we get the ranked sentences list by sorting the scores for the sentences in descending order"
   ]
  },
  {
   "cell_type": "code",
   "execution_count": 36,
   "metadata": {},
   "outputs": [],
   "source": [
    "ranked_sentences = sorted(((scores[i],s) for i,s in enumerate(sentences)), reverse=True)"
   ]
  },
  {
   "cell_type": "code",
   "execution_count": 40,
   "metadata": {},
   "outputs": [
    {
     "data": {
      "text/plain": [
       "['Maria Sharapova has basically no friends as tennis players on the WTA Tour.',\n",
       " \"The Russian player has no problems in openly speaking about it and in a recent interview she said: 'I don't really hide any feelings too much.\",\n",
       " 'I think everyone knows this is my job here.',\n",
       " \"When I'm on the courts or when I'm on the court playing, I'm a competitor and I want to beat every single person whether they're in the locker room or across the net.\",\n",
       " \"So I'm not the one to strike up a conversation about the weather and know that in the next few minutes I have to go and try to win a tennis match.\",\n",
       " \"I'm a pretty competitive girl.\",\n",
       " \"I say my hellos, but I'm not sending any players flowers as well.\",\n",
       " \"Uhm, I'm not really friendly or close to many players.\",\n",
       " \"I have not a lot of friends away from the courts.'\",\n",
       " 'When she said she is not really close to a lot of players, is that something strategic that she is doing?',\n",
       " \"Is it different on the men's tour than the women's tour?\",\n",
       " \"'No, not at all.\",\n",
       " \"I think just because you're in the same sport doesn't mean that you have to be friends with everyone just because you're categorized, you're a tennis player, so you're going to get along with tennis players.\",\n",
       " 'I think every person has different interests.',\n",
       " \"I have friends that have completely different jobs and interests, and I've met them in very different parts of my life.\",\n",
       " \"I think everyone just thinks because we're tennis players we should be the greatest of friends.\",\n",
       " 'But ultimately tennis is just a very small part of what we do.',\n",
       " \"There are so many other things that we're interested in, that we do.'\",\n",
       " 'ALSO READ: Maria Sharapova reveals how tennis keeps her motivated.',\n",
       " 'BASEL, Switzerland (AP) — Roger Federer advanced to the 14th Swiss Indoors final of his career by beating seventh-seeded Daniil Medvedev 6-1, 6-4 on Saturday.',\n",
       " 'Seeking a ninth title at his hometown event, and a 99th overall, Federer will play 93th-ranked Marius Copil on Sunday.',\n",
       " 'Federer dominated the 20th-ranked Medvedev and had his first match-point chance to break serve again at 5-1.',\n",
       " \"He then dropped his serve to love, and let another match point slip in Medvedev's next service game by netting a backhand.\",\n",
       " 'He clinched on his fourth chance when Medvedev netted from the baseline.',\n",
       " 'Copil upset expectations of a Federer final against Alexander Zverev in a 6-3, 6-7 (6), 6-4 win over the fifth-ranked German in the earlier semifinal.',\n",
       " 'The Romanian aims for a first title after arriving at Basel without a career win over a top-10 opponent.',\n",
       " 'Copil has two after also beating No.',\n",
       " '6 Marin Cilic in the second round.',\n",
       " 'Copil fired 26 aces past Zverev and never dropped serve, clinching after 2 1/2 hours with a forehand volley winner to break Zverev for the second time in the semifinal.',\n",
       " \"He came through two rounds of qualifying last weekend to reach the Basel main draw, including beating Zverev's older brother, Mischa.\",\n",
       " 'Federer had an easier time than in his only previous match against Medvedev, a three-setter at Shanghai two weeks ago.',\n",
       " 'Roger Federer has revealed that organisers of the re-launched and condensed Davis Cup gave him three days to decide if he would commit to the controversial competition.',\n",
       " 'Speaking at the Swiss Indoors tournament where he will play in Sunday’s final against Romanian qualifier Marius Copil, the world number three said that given the impossibly short time frame to make a decision, he opted out of any commitment.',\n",
       " '“They only left me three days to decide,” Federer said.',\n",
       " '“I didn’t to have time to consult with all the people I had to consult.',\n",
       " '“I could not make a decision in that time, so I told them to do what they wanted.” The 20-time Grand Slam champion has voiced doubts about the wisdom of the one-week format to be introduced by organisers Kosmos, who have promised the International Tennis Federation up to $3 billion in prize money over the next quarter-century.',\n",
       " 'The competition is set to feature 18 countries in the November 18-24 finals in Madrid next year, and will replace the classic home-and-away ties played four times per year for decades.',\n",
       " 'Kosmos is headed by Barcelona footballer Gerard Pique, who is hoping fellow Spaniard Rafael Nadal will play in the upcoming event.',\n",
       " 'Novak Djokovic has said he will give precedence to the ATP’s intended re-launch of the defunct World Team Cup in January 2020, at various Australian venues.',\n",
       " 'Major players feel that a big event in late November combined with one in January before the Australian Open will mean too much tennis and too little rest.',\n",
       " 'Federer said earlier this month in Shanghai in that his chances of playing the Davis Cup were all but non-existent.',\n",
       " '“I highly doubt it, of course.',\n",
       " 'We’ll see what happens,” he said.',\n",
       " '“I don’t think this was designed for me, anyhow.',\n",
       " 'This was designed for the future generation of players.” Argentina and Britain received wild cards to the new-look event, and will compete along with the four 2018 semi-finalists and the 12 teams who win qualifying rounds next February.',\n",
       " '“I don’t like being under that kind of pressure,” Federer said of the deadline Kosmos handed him.',\n",
       " 'Kei Nishikori will try to end his long losing streak in ATP finals and Kevin Anderson will go for his second title of the year at the Erste Bank Open on Sunday.',\n",
       " 'The fifth-seeded Nishikori reached his third final of 2018 after beating Mikhail Kukushkin of Kazakhstan 6-4, 6-3 in the semifinals.',\n",
       " \"A winner of 11 ATP events, Nishikori hasn't triumphed since winning in Memphis in February 2016.\",\n",
       " 'He has lost eight straight finals since.',\n",
       " 'The second-seeded Anderson defeated Fernando Verdasco 6-3, 3-6, 6-4.',\n",
       " 'Anderson has a shot at a fifth career title and second of the year after winning in New York in February.',\n",
       " 'Nishikori leads Anderson 4-2 on career matchups, but the South African won their only previous meeting this year.',\n",
       " 'With a victory on Sunday, Anderson will qualify for the ATP Finals.',\n",
       " 'Currently in ninth place, Nishikori with a win could move to within 125 points of the cut for the eight-man event in London next month.',\n",
       " 'Nishikori held serve throughout against Kukushkin, who came through qualifying.',\n",
       " 'He used his first break point to close out the first set before going up 3-0 in the second and wrapping up the win on his first match point.',\n",
       " 'Against Verdasco, Anderson hit nine of his 19 aces in the opening set.',\n",
       " \"The Spaniard broke Anderson twice in the second but didn't get another chance on the South African's serve in the final set.\",\n",
       " 'Federer, 37, first broke through on tour over two decades ago and he has since gone on to enjoy a glittering career.',\n",
       " 'The 20-time Grand Slam winner is chasing his 99th ATP title at the Swiss Indoors this week and he faces Jan-Lennard Struff in the second round on Thursday (6pm BST).',\n",
       " 'Davenport enjoyed most of her success in the late 1990s and her third and final major tournament win came at the 2000 Australian Open.',\n",
       " 'But she claims the mentality of professional tennis players slowly began to change after the new millennium.',\n",
       " '“It seems pretty friendly right now,” said Davenport.',\n",
       " '“I think there is a really nice environment and a great atmosphere, especially between some of the veteran players helping some of the younger players out.',\n",
       " \"“It's a very pleasant atmosphere, I'd have to say, around the locker rooms.\",\n",
       " '“I felt like the best weeks that I had to get to know players when I was playing were the Fed Cup weeks or the Olympic weeks, not necessarily during the tournaments.',\n",
       " '“And even though maybe we had smaller teams, I still think we kept to ourselves quite a bit.',\n",
       " '“Not always, but I really feel like in the mid-2000 years there was a huge shift of the attitudes of the top players and being more friendly and being more giving, and a lot of that had to do with players like Roger coming up.',\n",
       " \"“I just felt like it really kind of changed where people were a little bit, definitely in the '90s, a lot more quiet, into themselves, and then it started to become better.” Meanwhile, Federer is hoping he can improve his service game as he hunts his ninth Swiss Indoors title this week.\",\n",
       " \"“I didn't serve very well [against first-round opponent Filip Kranjovic,” Federer said.\",\n",
       " '“I think I was misfiring the corners, I was not hitting the lines enough.',\n",
       " \"“Clearly you make your life more difficult, but still I was up 6-2, 3-1, break points, so things could have ended very quickly today, even though I didn't have the best serve percentage stats.\",\n",
       " \"“But maybe that's exactly what caught up to me eventually.\",\n",
       " \"It's just getting used to it.\",\n",
       " 'This is where the first rounds can be tricky.”',\n",
       " 'Nadal has not played tennis since he was forced to retire from the US Open semi-finals against Juan Martin Del Porto with a knee injury.',\n",
       " 'The world No 1 has been forced to miss Spain’s Davis Cup clash with France and the Asian hard court season.',\n",
       " 'But with the ATP World Tour Finals due to begin next month, Nadal is ready to prove his fitness before the season-ending event at the 02 Arena.',\n",
       " 'Nadal flew to Paris on Friday and footage from the Paris Masters official Twitter account shows the Spaniard smiling as he strides onto court for practice.',\n",
       " 'The Paris Masters draw has been made and Nadal will start his campaign on Tuesday or Wednesday against either Fernando Verdasco or Jeremy Chardy.',\n",
       " 'Nadal could then play defending champion Jack Sock in the third round before a potential quarter-final with either Borna Coric or Dominic Thiem.',\n",
       " 'Nadal’s appearance in Paris is a big boost to the tournament organisers who could see Roger Federer withdraw.',\n",
       " 'Federer is in action at the Swiss Indoors in Basel and if he reaches the final, he could pull out of Paris in a bid to stay fresh for London.',\n",
       " 'But as it stands, Federer is in the draw and is scheduled to face either former world No 3 Milos Raonic or Jo-Wilfried Tsonga in the second round.',\n",
       " 'Federer’s projected route to the Paris final could also lead to matches against Kevin Anderson and Novak Djokovic.',\n",
       " 'Djokovic could play Marco Cecchinato in the second round.',\n",
       " 'British No 1 Kyle Edmund is the 12th seed in Paris and will get underway in round two against either Karen Khachanov or Filip Krajinovic.',\n",
       " 'Tennis giveth, and tennis taketh away.',\n",
       " 'The end of the season is finally in sight, and with so many players defending—or losing—huge chunks of points in Singapore, Zhuhai and London, podcast co-hosts Nina Pantic and Irina Falconi discuss the art of defending points (02:14).',\n",
       " \"It's no secret that Jack Sock has struggled on the singles court this year (his record is 7-19).\",\n",
       " 'He could lose 1,400 points in the next few weeks—but instead of focusing on the negative, it can all be about perspective (06:28).',\n",
       " \"Let's also not forget his two Grand Slam doubles triumphs this season.\",\n",
       " 'Two players, Stefanos Tsitsipas and Kyle Edmund, won their first career ATP titles last week (13:26).',\n",
       " \"It's a big deal because...you never forget your first.\",\n",
       " 'Irina looks back at her WTA title win in Bogota in 2016, and tells an unforgettable story about her semifinal drama (14:04).',\n",
       " 'In Singapore, one of the biggest storylines (aside from the matches, of course) has been the on-court coaching debate.',\n",
       " 'Nina and Irina give their opinions on what coaching should look like in the future, on both tours (18:55).',\n",
       " 'I PLAYED golf last week with Todd Reid.',\n",
       " 'He picked me up at 5.30am, half an hour early because he couldn’t sleep.',\n",
       " 'Or hadn’t slept, to be specific.',\n",
       " 'Not because he’d been out on a bender or anything — those days were in the past.',\n",
       " 'The former Wimbledon junior champion was full of hope, excited about getting his life back together after a troubled few years and a touch-and-go battle with pancreatitis.',\n",
       " '“I’m pleased with that,” he said after grinding out an eight-over-par front nine at the not-so-royal Northbridge club in Sydney and smashing down an egg- and-bacon roll at the halfway house.',\n",
       " 'To most players of his rare sporting gifts, such a modest return would be unacceptable.',\n",
       " 'To Reid the 15-marker, just being up and at ‘em was enough; a few bogeys and one well-made par — broomstick putter and all — vindication for his recent decision to renew his membership at nearby Bankstown.',\n",
       " 'Exhausted after spending half his round deep in the bushes searching for my ball, as well as those of two other golfers he’d never met before, our incredibly giving designated driver asked if we didn’t mind going straight home after signing off so he could rest up a little before heading to work.',\n",
       " 'Fourteen years after sharing centre court with Roger Federer in the third round of the Australian Open, Reid was now running the counter and coaching kids - but sadly now never mine- in suburban Sydney at the Matraville tennis and squash centre run by his father Bob and beautiful mother Sandra, herselfa former professional.',\n",
       " 'Quite the fall from grace for a prodigious talent once afforded a 3000-word spread in The New York Times.',\n",
       " 'With sponsors and the world at his feet, Reid was 14 then and being mentored by Nick Bollettieri, who fashioned the likes of Andre Agassi, Maria Sharapova, Monica Seles and Jim Courier into world No.1s.',\n",
       " 'Reid, too, was earmarked for the very top, only for injuries and illness to cruel his career.',\n",
       " 'On the up again after taking salvation in the bottle, Reid was found dead on Tuesday aged just 34.',\n",
       " '“I never got over what happened to me when I was 19,” he told AAP last week.',\n",
       " 'Just as his senior career got legs, Reid was derailed by a debilitating bout of glandular fever.',\n",
       " 'The life-changing setback hit only weeks after the then-teenage wonder boy announced his arrival as a grand slam threat by throwing up all over Rod Laver Arena during a fighting five-set second-round win over Sargis Sargsian.',\n",
       " 'The epic victory set-up his showdown with Federer, who would go on to win his first Australian Open.',\n",
       " '“I was their golden boy then,” he said of his relationship with Tennis Australia.',\n",
       " '“Now they won’t even give me tickets (to the Open).” A Davis Cup pick and on the cusp of the world’s 100 by 18, Reid had few other complaints - just a lingering sense of what might have been.',\n",
       " 'He’d backed up his last-32 showingat Melbourne Park with a string of wins over elites including French Open champion and then world No.9 Gaston Gaudio and Roland Garros runner-up Martin Verkerk in 2004 before illness struck.',\n",
       " '“I was on a nice trajectorythen,” Reid recalled.“If I hadn’t got sick, I think I could have started pushing towards the second week at the slams and then who knows.” Duringa comeback attempt some five years later, Reid added Bernard Tomic and 2018 US Open Federer slayer John Millman to his list of career scalps.',\n",
       " '“He had one of the best backhands, I think, going around,” Millman told AAP.',\n",
       " '“But my fondest memory is probably him coming back in Spain with his father and Todd trying to order a ham, cheese and tomato sandwich in the most Aussie English I ever heard.” Among his lesser known achievements - but even more significantto me - was an injured Reid’s effort to reach the final of the Manly Seaside, a prestigious Christmas-time event won backin the day by the likes of legends Rod Laver, Ken Rosewall, Frank Sedgman, John Bromwich, Lew Hoad, Neal Fraser, Fred Stolle, Evonne Goolagong and Australia’s last women’s Australian Open champion, Christine O’Neil.',\n",
       " 'Hampered by a shoulder injury, Reid served under-arm - UNDER-ARM - throughout the entire tournament yet still made the decider.',\n",
       " '“I was always happy to work hard,” he said.',\n",
       " 'He had hoped the mercurial Nick Kyrgios would do the same.',\n",
       " 'A big fan and believer in the enigmatic Canberran, Reid didn’t want to see Kyrgios’s career slip away like his did.',\n",
       " '“Full effort he wouldn’t fail,” Reid said of Kyrgios.',\n",
       " '“Full effort Nick could live out his tennis like a (Tomas) Berdych or (Jo- Wilfried) Tsonga, consistently making second week,quarters, semis, finals of slams - and then hopefully more.',\n",
       " '“Time will tell for Nick, but he’s still young.” Todd Reid was still young, too.',\n",
       " 'Tragically, his time ran out.']"
      ]
     },
     "execution_count": 40,
     "metadata": {},
     "output_type": "execute_result"
    }
   ],
   "source": [
    "sentences"
   ]
  },
  {
   "cell_type": "code",
   "execution_count": 42,
   "metadata": {},
   "outputs": [
    {
     "name": "stdout",
     "output_type": "stream",
     "text": [
      "“I was on a nice trajectorythen,” Reid recalled.“If I hadn’t got sick, I think I could have started pushing towards the second week at the slams and then who knows.” Duringa comeback attempt some five years later, Reid added Bernard Tomic and 2018 US Open Federer slayer John Millman to his list of career scalps. \n",
      "\n",
      "Major players feel that a big event in late November combined with one in January before the Australian Open will mean too much tennis and too little rest. \n",
      "\n",
      "So I'm not the one to strike up a conversation about the weather and know that in the next few minutes I have to go and try to win a tennis match. \n",
      "\n",
      "Speaking at the Swiss Indoors tournament where he will play in Sunday’s final against Romanian qualifier Marius Copil, the world number three said that given the impossibly short time frame to make a decision, he opted out of any commitment. \n",
      "\n",
      "Currently in ninth place, Nishikori with a win could move to within 125 points of the cut for the eight-man event in London next month. \n",
      "\n",
      "Exhausted after spending half his round deep in the bushes searching for my ball, as well as those of two other golfers he’d never met before, our incredibly giving designated driver asked if we didn’t mind going straight home after signing off so he could rest up a little before heading to work. \n",
      "\n",
      "“I felt like the best weeks that I had to get to know players when I was playing were the Fed Cup weeks or the Olympic weeks, not necessarily during the tournaments. \n",
      "\n",
      "“I just felt like it really kind of changed where people were a little bit, definitely in the '90s, a lot more quiet, into themselves, and then it started to become better.” Meanwhile, Federer is hoping he can improve his service game as he hunts his ninth Swiss Indoors title this week. \n",
      "\n",
      "The former Wimbledon junior champion was full of hope, excited about getting his life back together after a troubled few years and a touch-and-go battle with pancreatitis. \n",
      "\n",
      "He used his first break point to close out the first set before going up 3-0 in the second and wrapping up the win on his first match point. \n",
      "\n"
     ]
    }
   ],
   "source": [
    "# Extract top 10 sentences as the summary\n",
    "for i in range(10):\n",
    "  print(ranked_sentences[i][1],\"\\n\")"
   ]
  },
  {
   "cell_type": "code",
   "execution_count": null,
   "metadata": {},
   "outputs": [],
   "source": []
  }
 ],
 "metadata": {
  "kernelspec": {
   "display_name": "Python 3",
   "language": "python",
   "name": "python3"
  },
  "language_info": {
   "codemirror_mode": {
    "name": "ipython",
    "version": 3
   },
   "file_extension": ".py",
   "mimetype": "text/x-python",
   "name": "python",
   "nbconvert_exporter": "python",
   "pygments_lexer": "ipython3",
   "version": "3.8.3"
  }
 },
 "nbformat": 4,
 "nbformat_minor": 4
}
